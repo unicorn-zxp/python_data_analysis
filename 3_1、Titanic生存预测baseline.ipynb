{
 "cells": [
  {
   "cell_type": "markdown",
   "metadata": {},
   "source": [
    "## 1、导入库"
   ]
  },
  {
   "cell_type": "code",
   "execution_count": 309,
   "metadata": {
    "collapsed": false
   },
   "outputs": [],
   "source": [
    "import numpy as np\n",
    "import pandas as pd\n",
    "import matplotlib.pyplot as plt\n",
    "import seaborn as sns\n",
    "from pylab import rcParams\n",
    "import matplotlib.cm as cm\n",
    "import sklearn \n",
    "from sklearn import preprocessing\n",
    "from sklearn.preprocessing import LabelEncoder   # 编码转换\n",
    "from sklearn.preprocessing import StandardScaler\n",
    "from sklearn.model_selection import StratifiedShuffleSplit\n",
    "from sklearn.ensemble import RandomForestClassifier     # 随机森林\n",
    "from sklearn.svm import SVC,LinearSVC                   # 支持向量机\n",
    "from sklearn.linear_model import LogisticRegression     # 逻辑回归\n",
    "from sklearn.neighbors import KNeighborsClassifier      # KNN\n",
    "from sklearn.naive_bayes import GaussianNB              # 朴素贝叶斯\n",
    "from sklearn.tree import DecisionTreeClassifier         # 决策树\n",
    "from lightgbm import LGBMClassifier                     \n",
    "from xgboost import XGBClassifier\n",
    "from catboost import CatBoostClassifier\n",
    "from sklearn.ensemble import AdaBoostClassifier\n",
    "from sklearn.ensemble import GradientBoostingClassifier\n",
    "\n",
    "from sklearn.metrics import classification_report,precision_score,recall_score,f1_score\n",
    "from sklearn.metrics import confusion_matrix\n",
    "from sklearn.model_selection import GridSearchCV\n",
    "from sklearn.metrics import make_scorer\n",
    "from sklearn.ensemble import VotingClassifier\n",
    "\n",
    "from sklearn.decomposition import PCA\n",
    "from sklearn.cluster import KMeans\n",
    "from sklearn.metrics import silhouette_score\n",
    "\n",
    "import warnings\n",
    "warnings.filterwarnings('ignore')"
   ]
  },
  {
   "cell_type": "markdown",
   "metadata": {},
   "source": [
    "## 2、查看数据"
   ]
  },
  {
   "cell_type": "code",
   "execution_count": 310,
   "metadata": {
    "collapsed": false
   },
   "outputs": [],
   "source": [
    "data=pd.read_csv('./data/titanic/train.csv')"
   ]
  },
  {
   "cell_type": "code",
   "execution_count": 290,
   "metadata": {
    "collapsed": false
   },
   "outputs": [
    {
     "data": {
      "text/html": [
       "<div>\n",
       "<style scoped>\n",
       "    .dataframe tbody tr th:only-of-type {\n",
       "        vertical-align: middle;\n",
       "    }\n",
       "\n",
       "    .dataframe tbody tr th {\n",
       "        vertical-align: top;\n",
       "    }\n",
       "\n",
       "    .dataframe thead th {\n",
       "        text-align: right;\n",
       "    }\n",
       "</style>\n",
       "<table border=\"1\" class=\"dataframe\">\n",
       "  <thead>\n",
       "    <tr style=\"text-align: right;\">\n",
       "      <th></th>\n",
       "      <th>PassengerId</th>\n",
       "      <th>Survived</th>\n",
       "      <th>Pclass</th>\n",
       "      <th>Name</th>\n",
       "      <th>Sex</th>\n",
       "      <th>Age</th>\n",
       "      <th>SibSp</th>\n",
       "      <th>Parch</th>\n",
       "      <th>Ticket</th>\n",
       "      <th>Fare</th>\n",
       "      <th>Cabin</th>\n",
       "      <th>Embarked</th>\n",
       "    </tr>\n",
       "  </thead>\n",
       "  <tbody>\n",
       "    <tr>\n",
       "      <th>0</th>\n",
       "      <td>1</td>\n",
       "      <td>0</td>\n",
       "      <td>3</td>\n",
       "      <td>Braund, Mr. Owen Harris</td>\n",
       "      <td>male</td>\n",
       "      <td>22.0</td>\n",
       "      <td>1</td>\n",
       "      <td>0</td>\n",
       "      <td>A/5 21171</td>\n",
       "      <td>7.2500</td>\n",
       "      <td>NaN</td>\n",
       "      <td>S</td>\n",
       "    </tr>\n",
       "    <tr>\n",
       "      <th>1</th>\n",
       "      <td>2</td>\n",
       "      <td>1</td>\n",
       "      <td>1</td>\n",
       "      <td>Cumings, Mrs. John Bradley (Florence Briggs Th...</td>\n",
       "      <td>female</td>\n",
       "      <td>38.0</td>\n",
       "      <td>1</td>\n",
       "      <td>0</td>\n",
       "      <td>PC 17599</td>\n",
       "      <td>71.2833</td>\n",
       "      <td>C85</td>\n",
       "      <td>C</td>\n",
       "    </tr>\n",
       "    <tr>\n",
       "      <th>2</th>\n",
       "      <td>3</td>\n",
       "      <td>1</td>\n",
       "      <td>3</td>\n",
       "      <td>Heikkinen, Miss. Laina</td>\n",
       "      <td>female</td>\n",
       "      <td>26.0</td>\n",
       "      <td>0</td>\n",
       "      <td>0</td>\n",
       "      <td>STON/O2. 3101282</td>\n",
       "      <td>7.9250</td>\n",
       "      <td>NaN</td>\n",
       "      <td>S</td>\n",
       "    </tr>\n",
       "    <tr>\n",
       "      <th>3</th>\n",
       "      <td>4</td>\n",
       "      <td>1</td>\n",
       "      <td>1</td>\n",
       "      <td>Futrelle, Mrs. Jacques Heath (Lily May Peel)</td>\n",
       "      <td>female</td>\n",
       "      <td>35.0</td>\n",
       "      <td>1</td>\n",
       "      <td>0</td>\n",
       "      <td>113803</td>\n",
       "      <td>53.1000</td>\n",
       "      <td>C123</td>\n",
       "      <td>S</td>\n",
       "    </tr>\n",
       "    <tr>\n",
       "      <th>4</th>\n",
       "      <td>5</td>\n",
       "      <td>0</td>\n",
       "      <td>3</td>\n",
       "      <td>Allen, Mr. William Henry</td>\n",
       "      <td>male</td>\n",
       "      <td>35.0</td>\n",
       "      <td>0</td>\n",
       "      <td>0</td>\n",
       "      <td>373450</td>\n",
       "      <td>8.0500</td>\n",
       "      <td>NaN</td>\n",
       "      <td>S</td>\n",
       "    </tr>\n",
       "  </tbody>\n",
       "</table>\n",
       "</div>"
      ],
      "text/plain": [
       "   PassengerId  Survived  Pclass  \\\n",
       "0            1         0       3   \n",
       "1            2         1       1   \n",
       "2            3         1       3   \n",
       "3            4         1       1   \n",
       "4            5         0       3   \n",
       "\n",
       "                                                Name     Sex   Age  SibSp  \\\n",
       "0                            Braund, Mr. Owen Harris    male  22.0      1   \n",
       "1  Cumings, Mrs. John Bradley (Florence Briggs Th...  female  38.0      1   \n",
       "2                             Heikkinen, Miss. Laina  female  26.0      0   \n",
       "3       Futrelle, Mrs. Jacques Heath (Lily May Peel)  female  35.0      1   \n",
       "4                           Allen, Mr. William Henry    male  35.0      0   \n",
       "\n",
       "   Parch            Ticket     Fare Cabin Embarked  \n",
       "0      0         A/5 21171   7.2500   NaN        S  \n",
       "1      0          PC 17599  71.2833   C85        C  \n",
       "2      0  STON/O2. 3101282   7.9250   NaN        S  \n",
       "3      0            113803  53.1000  C123        S  \n",
       "4      0            373450   8.0500   NaN        S  "
      ]
     },
     "execution_count": 290,
     "metadata": {},
     "output_type": "execute_result"
    }
   ],
   "source": [
    "data.head()"
   ]
  },
  {
   "cell_type": "code",
   "execution_count": 291,
   "metadata": {
    "collapsed": false
   },
   "outputs": [
    {
     "data": {
      "text/html": [
       "<div>\n",
       "<style scoped>\n",
       "    .dataframe tbody tr th:only-of-type {\n",
       "        vertical-align: middle;\n",
       "    }\n",
       "\n",
       "    .dataframe tbody tr th {\n",
       "        vertical-align: top;\n",
       "    }\n",
       "\n",
       "    .dataframe thead th {\n",
       "        text-align: right;\n",
       "    }\n",
       "</style>\n",
       "<table border=\"1\" class=\"dataframe\">\n",
       "  <thead>\n",
       "    <tr style=\"text-align: right;\">\n",
       "      <th></th>\n",
       "      <th>PassengerId</th>\n",
       "      <th>Survived</th>\n",
       "      <th>Pclass</th>\n",
       "      <th>Age</th>\n",
       "      <th>SibSp</th>\n",
       "      <th>Parch</th>\n",
       "      <th>Fare</th>\n",
       "    </tr>\n",
       "  </thead>\n",
       "  <tbody>\n",
       "    <tr>\n",
       "      <th>count</th>\n",
       "      <td>891.000000</td>\n",
       "      <td>891.000000</td>\n",
       "      <td>891.000000</td>\n",
       "      <td>714.000000</td>\n",
       "      <td>891.000000</td>\n",
       "      <td>891.000000</td>\n",
       "      <td>891.000000</td>\n",
       "    </tr>\n",
       "    <tr>\n",
       "      <th>mean</th>\n",
       "      <td>446.000000</td>\n",
       "      <td>0.383838</td>\n",
       "      <td>2.308642</td>\n",
       "      <td>29.699118</td>\n",
       "      <td>0.523008</td>\n",
       "      <td>0.381594</td>\n",
       "      <td>32.204208</td>\n",
       "    </tr>\n",
       "    <tr>\n",
       "      <th>std</th>\n",
       "      <td>257.353842</td>\n",
       "      <td>0.486592</td>\n",
       "      <td>0.836071</td>\n",
       "      <td>14.526497</td>\n",
       "      <td>1.102743</td>\n",
       "      <td>0.806057</td>\n",
       "      <td>49.693429</td>\n",
       "    </tr>\n",
       "    <tr>\n",
       "      <th>min</th>\n",
       "      <td>1.000000</td>\n",
       "      <td>0.000000</td>\n",
       "      <td>1.000000</td>\n",
       "      <td>0.420000</td>\n",
       "      <td>0.000000</td>\n",
       "      <td>0.000000</td>\n",
       "      <td>0.000000</td>\n",
       "    </tr>\n",
       "    <tr>\n",
       "      <th>25%</th>\n",
       "      <td>223.500000</td>\n",
       "      <td>0.000000</td>\n",
       "      <td>2.000000</td>\n",
       "      <td>20.125000</td>\n",
       "      <td>0.000000</td>\n",
       "      <td>0.000000</td>\n",
       "      <td>7.910400</td>\n",
       "    </tr>\n",
       "    <tr>\n",
       "      <th>50%</th>\n",
       "      <td>446.000000</td>\n",
       "      <td>0.000000</td>\n",
       "      <td>3.000000</td>\n",
       "      <td>28.000000</td>\n",
       "      <td>0.000000</td>\n",
       "      <td>0.000000</td>\n",
       "      <td>14.454200</td>\n",
       "    </tr>\n",
       "    <tr>\n",
       "      <th>75%</th>\n",
       "      <td>668.500000</td>\n",
       "      <td>1.000000</td>\n",
       "      <td>3.000000</td>\n",
       "      <td>38.000000</td>\n",
       "      <td>1.000000</td>\n",
       "      <td>0.000000</td>\n",
       "      <td>31.000000</td>\n",
       "    </tr>\n",
       "    <tr>\n",
       "      <th>max</th>\n",
       "      <td>891.000000</td>\n",
       "      <td>1.000000</td>\n",
       "      <td>3.000000</td>\n",
       "      <td>80.000000</td>\n",
       "      <td>8.000000</td>\n",
       "      <td>6.000000</td>\n",
       "      <td>512.329200</td>\n",
       "    </tr>\n",
       "  </tbody>\n",
       "</table>\n",
       "</div>"
      ],
      "text/plain": [
       "       PassengerId    Survived      Pclass         Age       SibSp  \\\n",
       "count   891.000000  891.000000  891.000000  714.000000  891.000000   \n",
       "mean    446.000000    0.383838    2.308642   29.699118    0.523008   \n",
       "std     257.353842    0.486592    0.836071   14.526497    1.102743   \n",
       "min       1.000000    0.000000    1.000000    0.420000    0.000000   \n",
       "25%     223.500000    0.000000    2.000000   20.125000    0.000000   \n",
       "50%     446.000000    0.000000    3.000000   28.000000    0.000000   \n",
       "75%     668.500000    1.000000    3.000000   38.000000    1.000000   \n",
       "max     891.000000    1.000000    3.000000   80.000000    8.000000   \n",
       "\n",
       "            Parch        Fare  \n",
       "count  891.000000  891.000000  \n",
       "mean     0.381594   32.204208  \n",
       "std      0.806057   49.693429  \n",
       "min      0.000000    0.000000  \n",
       "25%      0.000000    7.910400  \n",
       "50%      0.000000   14.454200  \n",
       "75%      0.000000   31.000000  \n",
       "max      6.000000  512.329200  "
      ]
     },
     "execution_count": 291,
     "metadata": {},
     "output_type": "execute_result"
    }
   ],
   "source": [
    "data.describe()"
   ]
  },
  {
   "cell_type": "code",
   "execution_count": 292,
   "metadata": {
    "collapsed": false
   },
   "outputs": [
    {
     "data": {
      "text/plain": [
       "(891, 12)"
      ]
     },
     "execution_count": 292,
     "metadata": {},
     "output_type": "execute_result"
    }
   ],
   "source": [
    "data.shape"
   ]
  },
  {
   "cell_type": "code",
   "execution_count": 293,
   "metadata": {
    "collapsed": false
   },
   "outputs": [
    {
     "name": "stdout",
     "output_type": "stream",
     "text": [
      "<class 'pandas.core.frame.DataFrame'>\n",
      "RangeIndex: 891 entries, 0 to 890\n",
      "Data columns (total 12 columns):\n",
      "PassengerId    891 non-null int64\n",
      "Survived       891 non-null int64\n",
      "Pclass         891 non-null int64\n",
      "Name           891 non-null object\n",
      "Sex            891 non-null object\n",
      "Age            714 non-null float64\n",
      "SibSp          891 non-null int64\n",
      "Parch          891 non-null int64\n",
      "Ticket         891 non-null object\n",
      "Fare           891 non-null float64\n",
      "Cabin          204 non-null object\n",
      "Embarked       889 non-null object\n",
      "dtypes: float64(2), int64(5), object(5)\n",
      "memory usage: 83.6+ KB\n"
     ]
    }
   ],
   "source": [
    "data.info()"
   ]
  },
  {
   "cell_type": "markdown",
   "metadata": {},
   "source": [
    "## 3、数据清洗"
   ]
  },
  {
   "cell_type": "code",
   "execution_count": 294,
   "metadata": {
    "collapsed": false
   },
   "outputs": [
    {
     "data": {
      "text/plain": [
       "PassengerId      0\n",
       "Survived         0\n",
       "Pclass           0\n",
       "Name             0\n",
       "Sex              0\n",
       "Age            177\n",
       "SibSp            0\n",
       "Parch            0\n",
       "Ticket           0\n",
       "Fare             0\n",
       "Cabin          687\n",
       "Embarked         2\n",
       "dtype: int64"
      ]
     },
     "execution_count": 294,
     "metadata": {},
     "output_type": "execute_result"
    }
   ],
   "source": [
    "pd.isnull(data).sum()"
   ]
  },
  {
   "cell_type": "markdown",
   "metadata": {},
   "source": [
    "#### 可以看到，Cabin缺失的值太多了，考虑整列去掉，age缺失的行数去掉\n",
    "#### 同时将乘客id,name等无关信息去掉"
   ]
  },
  {
   "cell_type": "code",
   "execution_count": 311,
   "metadata": {
    "collapsed": false
   },
   "outputs": [],
   "source": [
    "data2=data.copy()\n",
    "data2=data2.drop(['PassengerId','Name','Ticket','Cabin'],axis=1)\n",
    "data2.dropna(inplace=True)"
   ]
  },
  {
   "cell_type": "code",
   "execution_count": 296,
   "metadata": {
    "collapsed": false
   },
   "outputs": [
    {
     "data": {
      "text/plain": [
       "(712, 8)"
      ]
     },
     "execution_count": 296,
     "metadata": {},
     "output_type": "execute_result"
    }
   ],
   "source": [
    "data2.shape"
   ]
  },
  {
   "cell_type": "code",
   "execution_count": 297,
   "metadata": {
    "collapsed": false
   },
   "outputs": [
    {
     "data": {
      "text/html": [
       "<div>\n",
       "<style scoped>\n",
       "    .dataframe tbody tr th:only-of-type {\n",
       "        vertical-align: middle;\n",
       "    }\n",
       "\n",
       "    .dataframe tbody tr th {\n",
       "        vertical-align: top;\n",
       "    }\n",
       "\n",
       "    .dataframe thead th {\n",
       "        text-align: right;\n",
       "    }\n",
       "</style>\n",
       "<table border=\"1\" class=\"dataframe\">\n",
       "  <thead>\n",
       "    <tr style=\"text-align: right;\">\n",
       "      <th></th>\n",
       "      <th>Survived</th>\n",
       "      <th>Pclass</th>\n",
       "      <th>Sex</th>\n",
       "      <th>Age</th>\n",
       "      <th>SibSp</th>\n",
       "      <th>Parch</th>\n",
       "      <th>Fare</th>\n",
       "      <th>Embarked</th>\n",
       "    </tr>\n",
       "  </thead>\n",
       "  <tbody>\n",
       "    <tr>\n",
       "      <th>0</th>\n",
       "      <td>0</td>\n",
       "      <td>3</td>\n",
       "      <td>male</td>\n",
       "      <td>22.0</td>\n",
       "      <td>1</td>\n",
       "      <td>0</td>\n",
       "      <td>7.2500</td>\n",
       "      <td>S</td>\n",
       "    </tr>\n",
       "    <tr>\n",
       "      <th>1</th>\n",
       "      <td>1</td>\n",
       "      <td>1</td>\n",
       "      <td>female</td>\n",
       "      <td>38.0</td>\n",
       "      <td>1</td>\n",
       "      <td>0</td>\n",
       "      <td>71.2833</td>\n",
       "      <td>C</td>\n",
       "    </tr>\n",
       "    <tr>\n",
       "      <th>2</th>\n",
       "      <td>1</td>\n",
       "      <td>3</td>\n",
       "      <td>female</td>\n",
       "      <td>26.0</td>\n",
       "      <td>0</td>\n",
       "      <td>0</td>\n",
       "      <td>7.9250</td>\n",
       "      <td>S</td>\n",
       "    </tr>\n",
       "    <tr>\n",
       "      <th>3</th>\n",
       "      <td>1</td>\n",
       "      <td>1</td>\n",
       "      <td>female</td>\n",
       "      <td>35.0</td>\n",
       "      <td>1</td>\n",
       "      <td>0</td>\n",
       "      <td>53.1000</td>\n",
       "      <td>S</td>\n",
       "    </tr>\n",
       "    <tr>\n",
       "      <th>4</th>\n",
       "      <td>0</td>\n",
       "      <td>3</td>\n",
       "      <td>male</td>\n",
       "      <td>35.0</td>\n",
       "      <td>0</td>\n",
       "      <td>0</td>\n",
       "      <td>8.0500</td>\n",
       "      <td>S</td>\n",
       "    </tr>\n",
       "  </tbody>\n",
       "</table>\n",
       "</div>"
      ],
      "text/plain": [
       "   Survived  Pclass     Sex   Age  SibSp  Parch     Fare Embarked\n",
       "0         0       3    male  22.0      1      0   7.2500        S\n",
       "1         1       1  female  38.0      1      0  71.2833        C\n",
       "2         1       3  female  26.0      0      0   7.9250        S\n",
       "3         1       1  female  35.0      1      0  53.1000        S\n",
       "4         0       3    male  35.0      0      0   8.0500        S"
      ]
     },
     "execution_count": 297,
     "metadata": {},
     "output_type": "execute_result"
    }
   ],
   "source": [
    "data2.head()"
   ]
  },
  {
   "cell_type": "markdown",
   "metadata": {},
   "source": [
    "#### 将性别替换成数字类型"
   ]
  },
  {
   "cell_type": "code",
   "execution_count": 312,
   "metadata": {
    "collapsed": false
   },
   "outputs": [],
   "source": [
    "data2['Sex'].replace(to_replace='male',value=1,inplace=True)\n",
    "data2['Sex'].replace(to_replace='female',value=0,inplace=True)"
   ]
  },
  {
   "cell_type": "markdown",
   "metadata": {},
   "source": [
    "## 4、数据可视化"
   ]
  },
  {
   "cell_type": "code",
   "execution_count": 36,
   "metadata": {
    "collapsed": false
   },
   "outputs": [
    {
     "data": {
      "image/png": "[encoded data removed]",
      "text/plain": [
       "<Figure size 600x600 with 1 Axes>"
      ]
     },
     "metadata": {},
     "output_type": "display_data"
    }
   ],
   "source": [
    "%matplotlib inline\n",
    "survival_value=data2['Survived'].value_counts()\n",
    "#labels=telcom[\"Churn\"].value_counts().index\n",
    "labels=['Survival',' Not Survival']\n",
    "\n",
    "rcParams[\"figure.figsize\"]=6,6\n",
    "# explode是每一块距离中心的距离\n",
    "# autopct控制饼图内百分比设置,可以使用format字符串或者format function '%1.1f'指小数点前后位数(没有用空格补齐)\n",
    "plt.pie(survival_value,labels=labels,colors=[\"whitesmoke\",\"yellow\"], explode=(0.1,0),autopct='%1.1f%%', shadow=True)\n",
    "plt.title(\"Proportions of Passenger Survaval\")\n",
    "plt.show()"
   ]
  },
  {
   "cell_type": "markdown",
   "metadata": {},
   "source": [
    "### 性别，仓位等对生存率的影响"
   ]
  },
  {
   "cell_type": "code",
   "execution_count": 38,
   "metadata": {
    "collapsed": false
   },
   "outputs": [
    {
     "data": {
      "image/png": "[encoded data removed]",
      "text/plain": [
       "<Figure size 1000x1000 with 4 Axes>"
      ]
     },
     "metadata": {},
     "output_type": "display_data"
    }
   ],
   "source": [
    "f, axes = plt.subplots(nrows=2, ncols=2, figsize=(10,10))\n",
    "\n",
    "plt.subplot(2,2,1)\n",
    "sns.countplot(x=\"Sex\",hue=\"Survived\",data=data2,palette=\"Pastel2\") # palette参数表示设置颜色，这里设置为主题色Pastel2\n",
    "plt.xlabel(\"gender\")\n",
    "plt.title(\"Survival by Gender\")\n",
    "\n",
    "plt.subplot(2,2,2)\n",
    "sns.countplot(x=\"Pclass\",hue=\"Survived\",data=data2,palette=\"Pastel2\")\n",
    "plt.xlabel(\"Pclass\")\n",
    "plt.title(\"Survival by Pclass\")\n",
    "\n",
    "plt.subplot(2,2,3)\n",
    "sns.countplot(x=\"SibSp\",hue=\"Survived\",data=data2,palette=\"Pastel2\")\n",
    "plt.xlabel(\"Sibsp\")\n",
    "plt.title(\"Survival by Sibsp\")\n",
    "\n",
    "plt.subplot(2,2,4)\n",
    "sns.countplot(x=\"Parch\",hue=\"Survived\",data=data2,palette=\"Pastel2\")\n",
    "plt.xlabel(\"Parch\")\n",
    "plt.title(\"Survival by Parch\")\n",
    "plt.show()\n"
   ]
  },
  {
   "cell_type": "code",
   "execution_count": 39,
   "metadata": {
    "collapsed": false
   },
   "outputs": [
    {
     "data": {
      "text/html": [
       "<div>\n",
       "<style scoped>\n",
       "    .dataframe tbody tr th:only-of-type {\n",
       "        vertical-align: middle;\n",
       "    }\n",
       "\n",
       "    .dataframe tbody tr th {\n",
       "        vertical-align: top;\n",
       "    }\n",
       "\n",
       "    .dataframe thead th {\n",
       "        text-align: right;\n",
       "    }\n",
       "</style>\n",
       "<table border=\"1\" class=\"dataframe\">\n",
       "  <thead>\n",
       "    <tr style=\"text-align: right;\">\n",
       "      <th></th>\n",
       "      <th>Survived</th>\n",
       "      <th>Pclass</th>\n",
       "      <th>Sex</th>\n",
       "      <th>Age</th>\n",
       "      <th>SibSp</th>\n",
       "      <th>Parch</th>\n",
       "      <th>Fare</th>\n",
       "    </tr>\n",
       "  </thead>\n",
       "  <tbody>\n",
       "    <tr>\n",
       "      <th>Survived</th>\n",
       "      <td>1.000000</td>\n",
       "      <td>-0.356462</td>\n",
       "      <td>-0.536762</td>\n",
       "      <td>-0.082446</td>\n",
       "      <td>-0.015523</td>\n",
       "      <td>0.095265</td>\n",
       "      <td>0.266100</td>\n",
       "    </tr>\n",
       "    <tr>\n",
       "      <th>Pclass</th>\n",
       "      <td>-0.356462</td>\n",
       "      <td>1.000000</td>\n",
       "      <td>0.150826</td>\n",
       "      <td>-0.365902</td>\n",
       "      <td>0.065187</td>\n",
       "      <td>0.023666</td>\n",
       "      <td>-0.552893</td>\n",
       "    </tr>\n",
       "    <tr>\n",
       "      <th>Sex</th>\n",
       "      <td>-0.536762</td>\n",
       "      <td>0.150826</td>\n",
       "      <td>1.000000</td>\n",
       "      <td>0.099037</td>\n",
       "      <td>-0.106296</td>\n",
       "      <td>-0.249543</td>\n",
       "      <td>-0.182457</td>\n",
       "    </tr>\n",
       "    <tr>\n",
       "      <th>Age</th>\n",
       "      <td>-0.082446</td>\n",
       "      <td>-0.365902</td>\n",
       "      <td>0.099037</td>\n",
       "      <td>1.000000</td>\n",
       "      <td>-0.307351</td>\n",
       "      <td>-0.187896</td>\n",
       "      <td>0.093143</td>\n",
       "    </tr>\n",
       "    <tr>\n",
       "      <th>SibSp</th>\n",
       "      <td>-0.015523</td>\n",
       "      <td>0.065187</td>\n",
       "      <td>-0.106296</td>\n",
       "      <td>-0.307351</td>\n",
       "      <td>1.000000</td>\n",
       "      <td>0.383338</td>\n",
       "      <td>0.139860</td>\n",
       "    </tr>\n",
       "    <tr>\n",
       "      <th>Parch</th>\n",
       "      <td>0.095265</td>\n",
       "      <td>0.023666</td>\n",
       "      <td>-0.249543</td>\n",
       "      <td>-0.187896</td>\n",
       "      <td>0.383338</td>\n",
       "      <td>1.000000</td>\n",
       "      <td>0.206624</td>\n",
       "    </tr>\n",
       "    <tr>\n",
       "      <th>Fare</th>\n",
       "      <td>0.266100</td>\n",
       "      <td>-0.552893</td>\n",
       "      <td>-0.182457</td>\n",
       "      <td>0.093143</td>\n",
       "      <td>0.139860</td>\n",
       "      <td>0.206624</td>\n",
       "      <td>1.000000</td>\n",
       "    </tr>\n",
       "  </tbody>\n",
       "</table>\n",
       "</div>"
      ],
      "text/plain": [
       "          Survived    Pclass       Sex       Age     SibSp     Parch      Fare\n",
       "Survived  1.000000 -0.356462 -0.536762 -0.082446 -0.015523  0.095265  0.266100\n",
       "Pclass   -0.356462  1.000000  0.150826 -0.365902  0.065187  0.023666 -0.552893\n",
       "Sex      -0.536762  0.150826  1.000000  0.099037 -0.106296 -0.249543 -0.182457\n",
       "Age      -0.082446 -0.365902  0.099037  1.000000 -0.307351 -0.187896  0.093143\n",
       "SibSp    -0.015523  0.065187 -0.106296 -0.307351  1.000000  0.383338  0.139860\n",
       "Parch     0.095265  0.023666 -0.249543 -0.187896  0.383338  1.000000  0.206624\n",
       "Fare      0.266100 -0.552893 -0.182457  0.093143  0.139860  0.206624  1.000000"
      ]
     },
     "execution_count": 39,
     "metadata": {},
     "output_type": "execute_result"
    }
   ],
   "source": [
    "corr=data2.corr()\n",
    "corr"
   ]
  },
  {
   "cell_type": "code",
   "execution_count": 40,
   "metadata": {
    "collapsed": false
   },
   "outputs": [
    {
     "data": {
      "image/png": "[encoded data removed]",
      "text/plain": [
       "<Figure size 2000x1600 with 2 Axes>"
      ]
     },
     "metadata": {},
     "output_type": "display_data"
    }
   ],
   "source": [
    "# 使用热地图显示相关系数\n",
    "'''\n",
    "heatmap    使用热地图展示系数矩阵情况\n",
    "linewidths 热力图矩阵之间的间隔大小\n",
    "annot      设定是否显示每个色块的系数值\n",
    "'''\n",
    "plt.figure(figsize=(20,16))\n",
    "sns.heatmap(corr, xticklabels=corr.columns, yticklabels=corr.columns, linewidths=0.2, cmap=\"YlGnBu\",annot=True)\n",
    "plt.title(\"Correlation between variables\")\n",
    "plt.show()"
   ]
  },
  {
   "cell_type": "markdown",
   "metadata": {},
   "source": [
    "### one-hot编码"
   ]
  },
  {
   "cell_type": "code",
   "execution_count": 341,
   "metadata": {
    "collapsed": true
   },
   "outputs": [],
   "source": [
    "data3=pd.get_dummies(data2)"
   ]
  },
  {
   "cell_type": "code",
   "execution_count": 342,
   "metadata": {
    "collapsed": false
   },
   "outputs": [],
   "source": [
    "data3['Age_bin']=pd.cut(data3['Age'].astype(int),5)\n",
    "#data3['Fare_bin']=pd.cut(data3['Fare'].astype(int),10)\n",
    "label=LabelEncoder()\n",
    "data3['AgeBin_code']=label.fit_transform(data3['Age_bin'])\n",
    "#data3['FareBin_code']=label.fit_transform(data3['Fare_bin'])\n",
    "data3=data3.drop(['Age','Age_bin'],axis=1)\n",
    "#data3=data3.drop(['Fare','Fare_bin'],axis=1)"
   ]
  },
  {
   "cell_type": "code",
   "execution_count": 334,
   "metadata": {
    "collapsed": false
   },
   "outputs": [
    {
     "data": {
      "text/html": [
       "<div>\n",
       "<style scoped>\n",
       "    .dataframe tbody tr th:only-of-type {\n",
       "        vertical-align: middle;\n",
       "    }\n",
       "\n",
       "    .dataframe tbody tr th {\n",
       "        vertical-align: top;\n",
       "    }\n",
       "\n",
       "    .dataframe thead th {\n",
       "        text-align: right;\n",
       "    }\n",
       "</style>\n",
       "<table border=\"1\" class=\"dataframe\">\n",
       "  <thead>\n",
       "    <tr style=\"text-align: right;\">\n",
       "      <th></th>\n",
       "      <th>Survived</th>\n",
       "      <th>Pclass</th>\n",
       "      <th>Sex</th>\n",
       "      <th>SibSp</th>\n",
       "      <th>Parch</th>\n",
       "      <th>Embarked_C</th>\n",
       "      <th>Embarked_Q</th>\n",
       "      <th>Embarked_S</th>\n",
       "      <th>AgeBin_code</th>\n",
       "      <th>FareBin_code</th>\n",
       "    </tr>\n",
       "  </thead>\n",
       "  <tbody>\n",
       "    <tr>\n",
       "      <th>0</th>\n",
       "      <td>0</td>\n",
       "      <td>3</td>\n",
       "      <td>1</td>\n",
       "      <td>1</td>\n",
       "      <td>0</td>\n",
       "      <td>0</td>\n",
       "      <td>0</td>\n",
       "      <td>1</td>\n",
       "      <td>1</td>\n",
       "      <td>0</td>\n",
       "    </tr>\n",
       "    <tr>\n",
       "      <th>1</th>\n",
       "      <td>1</td>\n",
       "      <td>1</td>\n",
       "      <td>0</td>\n",
       "      <td>1</td>\n",
       "      <td>0</td>\n",
       "      <td>1</td>\n",
       "      <td>0</td>\n",
       "      <td>0</td>\n",
       "      <td>2</td>\n",
       "      <td>1</td>\n",
       "    </tr>\n",
       "    <tr>\n",
       "      <th>2</th>\n",
       "      <td>1</td>\n",
       "      <td>3</td>\n",
       "      <td>0</td>\n",
       "      <td>0</td>\n",
       "      <td>0</td>\n",
       "      <td>0</td>\n",
       "      <td>0</td>\n",
       "      <td>1</td>\n",
       "      <td>1</td>\n",
       "      <td>0</td>\n",
       "    </tr>\n",
       "    <tr>\n",
       "      <th>3</th>\n",
       "      <td>1</td>\n",
       "      <td>1</td>\n",
       "      <td>0</td>\n",
       "      <td>1</td>\n",
       "      <td>0</td>\n",
       "      <td>0</td>\n",
       "      <td>0</td>\n",
       "      <td>1</td>\n",
       "      <td>2</td>\n",
       "      <td>1</td>\n",
       "    </tr>\n",
       "    <tr>\n",
       "      <th>4</th>\n",
       "      <td>0</td>\n",
       "      <td>3</td>\n",
       "      <td>1</td>\n",
       "      <td>0</td>\n",
       "      <td>0</td>\n",
       "      <td>0</td>\n",
       "      <td>0</td>\n",
       "      <td>1</td>\n",
       "      <td>2</td>\n",
       "      <td>0</td>\n",
       "    </tr>\n",
       "  </tbody>\n",
       "</table>\n",
       "</div>"
      ],
      "text/plain": [
       "   Survived  Pclass  Sex  SibSp  Parch  Embarked_C  Embarked_Q  Embarked_S  \\\n",
       "0         0       3    1      1      0           0           0           1   \n",
       "1         1       1    0      1      0           1           0           0   \n",
       "2         1       3    0      0      0           0           0           1   \n",
       "3         1       1    0      1      0           0           0           1   \n",
       "4         0       3    1      0      0           0           0           1   \n",
       "\n",
       "   AgeBin_code  FareBin_code  \n",
       "0            1             0  \n",
       "1            2             1  \n",
       "2            1             0  \n",
       "3            2             1  \n",
       "4            2             0  "
      ]
     },
     "execution_count": 334,
     "metadata": {},
     "output_type": "execute_result"
    }
   ],
   "source": [
    "data3.head()"
   ]
  },
  {
   "cell_type": "markdown",
   "metadata": {},
   "source": [
    "### 查看各变量与是否获救的相关度关系"
   ]
  },
  {
   "cell_type": "code",
   "execution_count": 46,
   "metadata": {
    "collapsed": false
   },
   "outputs": [
    {
     "data": {
      "image/png": "[encoded data removed]",
      "text/plain": [
       "<Figure size 1500x800 with 1 Axes>"
      ]
     },
     "metadata": {},
     "output_type": "display_data"
    }
   ],
   "source": [
    "plt.figure(figsize=(15,8))\n",
    "data3.corr()['Survived'].sort_values(ascending = False).plot(kind='bar')\n",
    "plt.title(\"Correlations between Churn and variables\")\n",
    "plt.show()"
   ]
  },
  {
   "cell_type": "markdown",
   "metadata": {},
   "source": [
    "### sibsp与是否获救的相关性是最低的，可以考虑删除，但是因为列数太少了，所以还是先留着"
   ]
  },
  {
   "cell_type": "markdown",
   "metadata": {},
   "source": [
    "### 对船票数值进行取均值归一化"
   ]
  },
  {
   "cell_type": "code",
   "execution_count": 343,
   "metadata": {
    "collapsed": false
   },
   "outputs": [],
   "source": [
    "\"\"\"\n",
    "标准化数据，保证每个维度的特征数据方差为1，均值为0，使得预测结果不会被某些维度过大的特征值而主导。\n",
    "就是（旧值-均值）/ 标准差\n",
    "\"\"\"\n",
    "scaler = StandardScaler(copy=False)\n",
    "# fit_transform()的作用就是先拟合数据，然后转化它将其转化为标准形式\n",
    "data3['Fare']=scaler.fit_transform(data3[['Fare']])"
   ]
  },
  {
   "cell_type": "code",
   "execution_count": 254,
   "metadata": {
    "collapsed": false
   },
   "outputs": [
    {
     "data": {
      "text/html": [
       "<div>\n",
       "<style scoped>\n",
       "    .dataframe tbody tr th:only-of-type {\n",
       "        vertical-align: middle;\n",
       "    }\n",
       "\n",
       "    .dataframe tbody tr th {\n",
       "        vertical-align: top;\n",
       "    }\n",
       "\n",
       "    .dataframe thead th {\n",
       "        text-align: right;\n",
       "    }\n",
       "</style>\n",
       "<table border=\"1\" class=\"dataframe\">\n",
       "  <thead>\n",
       "    <tr style=\"text-align: right;\">\n",
       "      <th></th>\n",
       "      <th>Survived</th>\n",
       "      <th>Pclass</th>\n",
       "      <th>Sex</th>\n",
       "      <th>SibSp</th>\n",
       "      <th>Parch</th>\n",
       "      <th>Fare</th>\n",
       "      <th>Embarked_C</th>\n",
       "      <th>Embarked_Q</th>\n",
       "      <th>Embarked_S</th>\n",
       "      <th>AgeBin_code</th>\n",
       "    </tr>\n",
       "  </thead>\n",
       "  <tbody>\n",
       "    <tr>\n",
       "      <th>0</th>\n",
       "      <td>0</td>\n",
       "      <td>3</td>\n",
       "      <td>1</td>\n",
       "      <td>1</td>\n",
       "      <td>0</td>\n",
       "      <td>-0.516380</td>\n",
       "      <td>0</td>\n",
       "      <td>0</td>\n",
       "      <td>1</td>\n",
       "      <td>1</td>\n",
       "    </tr>\n",
       "    <tr>\n",
       "      <th>1</th>\n",
       "      <td>1</td>\n",
       "      <td>1</td>\n",
       "      <td>0</td>\n",
       "      <td>1</td>\n",
       "      <td>0</td>\n",
       "      <td>0.694046</td>\n",
       "      <td>1</td>\n",
       "      <td>0</td>\n",
       "      <td>0</td>\n",
       "      <td>2</td>\n",
       "    </tr>\n",
       "    <tr>\n",
       "      <th>2</th>\n",
       "      <td>1</td>\n",
       "      <td>3</td>\n",
       "      <td>0</td>\n",
       "      <td>0</td>\n",
       "      <td>0</td>\n",
       "      <td>-0.503620</td>\n",
       "      <td>0</td>\n",
       "      <td>0</td>\n",
       "      <td>1</td>\n",
       "      <td>1</td>\n",
       "    </tr>\n",
       "    <tr>\n",
       "      <th>3</th>\n",
       "      <td>1</td>\n",
       "      <td>1</td>\n",
       "      <td>0</td>\n",
       "      <td>1</td>\n",
       "      <td>0</td>\n",
       "      <td>0.350326</td>\n",
       "      <td>0</td>\n",
       "      <td>0</td>\n",
       "      <td>1</td>\n",
       "      <td>2</td>\n",
       "    </tr>\n",
       "    <tr>\n",
       "      <th>4</th>\n",
       "      <td>0</td>\n",
       "      <td>3</td>\n",
       "      <td>1</td>\n",
       "      <td>0</td>\n",
       "      <td>0</td>\n",
       "      <td>-0.501257</td>\n",
       "      <td>0</td>\n",
       "      <td>0</td>\n",
       "      <td>1</td>\n",
       "      <td>2</td>\n",
       "    </tr>\n",
       "  </tbody>\n",
       "</table>\n",
       "</div>"
      ],
      "text/plain": [
       "   Survived  Pclass  Sex  SibSp  Parch      Fare  Embarked_C  Embarked_Q  \\\n",
       "0         0       3    1      1      0 -0.516380           0           0   \n",
       "1         1       1    0      1      0  0.694046           1           0   \n",
       "2         1       3    0      0      0 -0.503620           0           0   \n",
       "3         1       1    0      1      0  0.350326           0           0   \n",
       "4         0       3    1      0      0 -0.501257           0           0   \n",
       "\n",
       "   Embarked_S  AgeBin_code  \n",
       "0           1            1  \n",
       "1           0            2  \n",
       "2           1            1  \n",
       "3           1            2  \n",
       "4           1            2  "
      ]
     },
     "execution_count": 254,
     "metadata": {},
     "output_type": "execute_result"
    }
   ],
   "source": [
    "data3.head()"
   ]
  },
  {
   "cell_type": "markdown",
   "metadata": {},
   "source": [
    "## 5、构建模型"
   ]
  },
  {
   "cell_type": "code",
   "execution_count": 344,
   "metadata": {
    "collapsed": false
   },
   "outputs": [
    {
     "name": "stdout",
     "output_type": "stream",
     "text": [
      "StratifiedShuffleSplit(n_splits=5, random_state=0, test_size=0.2,\n",
      "            train_size=None)\n",
      "训练数据和测试数据被分成的组数： 5\n"
     ]
    }
   ],
   "source": [
    "\"\"\"\n",
    "我们需要将数据集拆分为训练集和测试集以进行验证。\n",
    "由于我们所拥有的数据集是不平衡的，所以最好使用分层交叉验证来确保训练集和测试集都包含每个类样本的保留人数。\n",
    "交叉验证函数StratifiedShuffleSplit，功能是从样本数据中随机按比例选取训练数据（train）和测试数据（test）\n",
    "参数 n_splits是将训练数据分成train/test对的组数，可根据需要进行设置，默认为10\n",
    "参数test_size和train_size是用来设置train/test对中train和test所占的比例\n",
    "参数 random_state控制是将样本随机打乱\n",
    "\"\"\"\n",
    "\n",
    "y=data3[\"Survived\"].values\n",
    "X=data3.iloc[:,1:]\n",
    "sss=StratifiedShuffleSplit(n_splits=5, test_size=0.2, random_state=0)\n",
    "print(sss)\n",
    "print(\"训练数据和测试数据被分成的组数：\",sss.get_n_splits(X,y))"
   ]
  },
  {
   "cell_type": "code",
   "execution_count": 345,
   "metadata": {
    "collapsed": true
   },
   "outputs": [
    {
     "name": "stdout",
     "output_type": "stream",
     "text": [
      "train: [506 127 149 434 567 670 268 165 326 120 551  87 350 653 633 595 558 317\n",
      " 192 599 449  63 479 557 710   0 499 246 302 612 676 339 321 531 394 131\n",
      "  91 556 280 591 521 117 538 564 408 132  92 421 340  36 207 525 201 128\n",
      " 501 386 299 696 220 705 377 700 336 433 622 598 100  40 181 470 125 236\n",
      "  51 418 245 249 188 694 512 166 568 380 345 709 474 334 206 655 337 369\n",
      "  69 489 244 362 382 142 695 140 240  83 168 410 638 363 650 495 594  56\n",
      " 263 367 216  79 482 243 135 529  39  86 121 284 217 429  15 500 348  80\n",
      "  99 400 218 533 307 534 186 211  89 502 440 619 605 430 404 319 315 657\n",
      " 405 210 141 226 668 693 112 205 552 425 164 508 414 198 191 524 504 119\n",
      " 384 480 427 469 606  74 324 540 359   9 333 160 468 618 637 519 173 413\n",
      " 189 628 264 183 600 580 539 454 376 646 177 443 663 476 200 180 569 515\n",
      " 711 472 288  82  59 411 577 679 383 306 107 631 256  90 677 687 116 689\n",
      " 510 649 497 391 409 574 686 553  97 309 579 214 435  25 187 597 589  95\n",
      " 277 272 255 406 136 549 273 656 253 640   8  30 516 503 374 543 366 672\n",
      " 601 239  75 241 111 441 231 437 448 204 461 424  93 587 702 485 162 115\n",
      " 692 603 590 113 621 170 221 667 364 158 271 699 266 417 323 593 609 691\n",
      "  45 477 357  21 459 398 458 338 126 423 227  38  49 428 139  68 161 669\n",
      " 303 212 611 342  16 379 671 274 308 331 395 259  60 436 361 661 152  35\n",
      " 171 353 550  76 179 396 167  41 360 169  24 202 365 415  11  28 110  33\n",
      " 229 602 583 235  96 260  12 330  98  66 445 358 675 483 641 467 304 660\n",
      " 706 352 230 389 526  55   3 484 528   6 541 457 561 438  72  19 517 703\n",
      " 312  23 698 625 626 311 465 509 295 286 385 109 146 203 520 592 475 393\n",
      " 248 439 651 354  37 258 114 422 432  54 172 282  27 584 463  31 450 301\n",
      "   5 522 527 575 582 257 530  10 678 701 464 632 289 514 442  26 145 578\n",
      "  81  58 163 154 576 493 416 683 397 153 412 196 320 491 387 378 613 674\n",
      " 300 488  78 276 680 615  29 251 505 546  22  32 144  18 571 460 665 138\n",
      " 305 462 456  43 291  57  73 368 581 616 608 535 133  20  71 370 106 351\n",
      " 372 224   2 381 643 518  13  94 118 630 523 614 250 681 573 673 325 104\n",
      " 285 390 371 585 292 620 123 215 392 490 545 213  34 223 356 176 373 297\n",
      " 629 407  48 102  85 662 635 596 335 150  46 242  42 156 310 234 225 452\n",
      "   4 388 101 261 314 155 103 704 174 270 262 451 275 707 647 238 159 148\n",
      " 252 446 507 219 697 588 481  62 195 644 151] test: [137 287 108  64 293 403 209 494 254 634 399 222 197 322 486 624 617  14\n",
      " 346  88 105 555 193 237 185 444 341 283 134 639 178 316 642 572 570 652\n",
      "  17 124 327 563  70  47 496 401 559 355 645 420  44 586 623 233 184 455\n",
      " 269 190 419 471 298 554 658 685 487 636 122 610 278 290 560 347 431 688\n",
      " 344 329 532 318 279 542 664 208 143   7 466 426 511 565 129 343 130 547\n",
      " 296 498 147 666  67  84 708 328 627 659 247 684 349 313 513 648 294   1\n",
      " 175  77 492 453 157 281 402 690 228 544 332 375 566 182 536 232 562  50\n",
      "  61 199 478  52 473 654 267 447 604 537 548 194 265 682  65 607  53]\n",
      "train: [404 676 692 346 158 349 220 319 523 105  98 554 113 150 572 219 251 317\n",
      " 100 238 590 391  14 258 190 343 566 643 428 490 647  86 351 358  23  82\n",
      " 649 333 706 164  32 441 296 637 543 511 272  90 376 301 431  63 233 417\n",
      " 299 189 179  13 115 464 243 460 377 316 371  47 114 146 422 204 139 405\n",
      " 559 575 260 494 278 699 503 387 248 221   8 356 646 274 107 700 147 425\n",
      " 344 310 463 635 121 562 436 171 483 595 531 443  44 557 588 664 208 680\n",
      " 322 446 362 157  58 336 411  17 615 480 606  65 303 491  27 704 359 665\n",
      "  66 710 694  99 447 373 670 598 499 467 348 215 508 187 419  84 653 691\n",
      " 658 240 168 102 392 119 159   0  89 440 686 323 524 292 594 528 249 253\n",
      " 624 106 669 453  42 297 611  43 432  93 689 506  57 397 363 673 142 375\n",
      " 216  30 350 327 178 678 218  26 285  59  25 173  37 275  78 438 230 289\n",
      " 656 370 608 547 195 430 211 486 644 384 416 539 177 450  68  62  67 265\n",
      " 339 134 194 578 617 471 469 217   7  55 616 196 535  21 573 127  87 593\n",
      " 620 395 205  29 191 202 225 627 307 582 565 690 163 591 188 330 442  48\n",
      " 337 448 420  73 255 421  83 501 122 252 294 298 228 514 182  41 126 390\n",
      " 507 427 407 510 406 192 104 698 509 628 213 374 505 283 212 568 685 266\n",
      " 677 161  20 224 512 413  71 445 638 544 661  70  94 607 521 245 347 492\n",
      " 103 612 679 412 518 580   3 645 429   9 629 277 237 599 705 409  61 239\n",
      " 513 357 184  24 487 355 174 596 361 434 290 223 631 324 235 703 433 702\n",
      " 250 268 488 340 609 276 101 663 308 457 210 263 206  18 642  85 304 155\n",
      " 435  72 485 201 500 504 558 396 246 707 659 587 402 477 626  46 118 332\n",
      " 520 662 640 550 366 410 112 688 459 400 259 271 424  16 314  40  33 605\n",
      " 388 479 408 475 197 281 639 482 668 193 385 269  12 439  91 284 273 648\n",
      " 329 476 172 548 546 295 484 675 522 110   6  69 683 321 135 549 709  38\n",
      "  31 525 517 354 534   4 291  53 320 124 170 470 386 145 657 650 169 619\n",
      " 403 306 519 261 495 444 451 234 651 674 231  60 120 577 325 153  76 711\n",
      " 214 270 455 583 326 567 542 601 660 574 538  88  36 474 530 382 282  80\n",
      " 556 533 151 152 367 186 633 449 247 493 156 312 472 242 541 293 671   2\n",
      " 502 133 452 364 368 418 693 148 526 125  19 610 456 380 165 701 630 497\n",
      " 342 468 209 244 149 262 143 393 353 532  77 394 279 667 180 540 458 496\n",
      "  95 672 372  28 300 560 341 198 116 389 666 176 257  51 592 597  54 175\n",
      " 264 129 203  35 207 154 305 623 481 144 369] test: [ 34  56 586 128 687 309 334 636   1 489 466  97 302 256 498 131 571 695\n",
      " 473 183 654 379 603  10 360 696 267 318 681 287 232  75 185  92 331 579\n",
      " 123 415 181 569 684  74 109  79  52 241 682 108 222 465 288 551 313 160\n",
      " 254 454 167 138 536 378 600 423 414 602 527 563 655 555 585   5 401 537\n",
      " 328  50 229 613  81 516 618 236 162 634 399 381 132 137 553 652 589 564\n",
      " 335 345 570 545 515 621 437 140 632 461 576 614 227 365 286 166 462  22\n",
      " 604 529 708 111 398  64 561 280  96 136 426 478 311 226  15 200 352 117\n",
      " 130 338 622 641 552 584  11  45 199 697  39 141 625 315 581  49 383]\n",
      "train: [217 596 324 358 250 380 291 192  72 555 550 663 326 565 308 508 624 532\n",
      "  64 189 494 441  58 258 328 688 593 133 493 138 670 644 322 299 463  85\n",
      " 318 452 117 432 675 533 665 490 386 214 213 540  14 210 697 591 344 381\n",
      " 510 369 220 560 444 185 579 180 658 202 475 428 259 312 145 148 552 167\n",
      " 156 309 423 527 700 449 323  86 387 573 622 412 272 263  23 247 306 460\n",
      " 161 705 375 695 396  75 150 335 638  84  98 541 668   2 612 409 520 186\n",
      "  96 294 372 268 101 569  28 654 503 118 215 685 379 166 499 411 325  97\n",
      " 400 188 243 229  13 674 120  73 507 631 570 103 526 598 394 640 578 484\n",
      " 489 470 135   3 155 580 549 558 130 657 486 656  54 122 227 603 488 576\n",
      " 655 204 467 630 285 314 275 337   1 350 651 126  79 336 701 260 257  19\n",
      " 459 692 468 581  53 397 125 349  65 661 613 634  57 610 556 574 316 182\n",
      " 119 559 530 417 592 678 225 506  39 234  87 477 435 404 515 427 169  15\n",
      " 137 676  90 176  32   6 345  30 281 583 110 681  36 158  25 495 683  60\n",
      "  42 317 330 296 641  81  22 164 109 497 608 264 332  92 703 287 267 699\n",
      " 642 627  55 271 144 442 480 279 238 211 504 424 402 171 476 595 199 421\n",
      "  26 244 568 357 625 422 615 401 691 208 364 609 524 518 667 620  56 216\n",
      "   9 408  31 525 483 146 226 197 321 438 636 168   4 355  62  51 406 509\n",
      " 261 378 132 398 360 502 600 517 382 464 248 623 650 300 251 660 106 614\n",
      " 245 371 218 454  68 390 346 128  69 319 548 276 340  33 539 246 338 664\n",
      " 451 270 152 121 286  38 429 293  89 666 370 183  99 407 662  93 698 353\n",
      " 413 165 262  43  94 418 160 469 298  48 339 652 496 672  88 671 601 649\n",
      " 562 153  52 619 219  70 419 535 151  95  76 528  24 693 505 445  91  37\n",
      " 391  21 203 706  66  40 385 577 235 551 416 362 523 433 594 224 333 311\n",
      " 282 221 679 682  16  71 694 680 174 474 112 127 597 108 206 310 686 646\n",
      " 393 179  17 140 607 209 363 604 605 513 571 178 462 292 500 529 472 415\n",
      " 643 359 389 280 136 327 181 709 599 575 237 561 302 564 222 142 689 175\n",
      " 278 124 200 351  29 537 458 288 481 352 356 553 543 708 403 255 367 239\n",
      " 629 519  82 196 129 114 366 487 554 373 320 618  50  46 588 228 572 546\n",
      " 254 274 348 301 365 606  63 522 455  67 659 269  44 173 313 514 512 443\n",
      " 536 491 343  80 673 687 159 212 361 315 521 436 395 223 113 431 334 420\n",
      " 684  11 304 230  78 677 240 632 544 249 621 392 567 447 233 273 557 633\n",
      " 653 639 242 547  12 207 461  83 290 194 426] test: [414 485 134 342 190 501   5 471 297 388 123 707 626 590 479 107 584 585\n",
      "  45 534 582 184 478 147 711 376 457 163 440 648 448 341 201 236 284 586\n",
      " 289 195 702   8  61  35 307 157 602 266  47 439 430 170 205 450 531 377\n",
      " 437 256 425 628 690 265 277 645 410 704 141 172  18  59  34 329 456 331\n",
      " 617 232 545 368 466 383 303 399 253 193 637   0 295  77  49  27  74 354\n",
      " 104 131 587   7 111 710 589 516 611 177 616 191 115 231 100 492 405 139\n",
      " 252 635 305 647  41 154 283 453 241 347 498 187 511 374 563 149 473 669\n",
      " 465 696 566 198  10 102 162 446 105 143 116 384 482 434 538 542  20]\n",
      "train: [ 36 628 440 191 131 538 642  78 235 669 510 103 675  34 219 497 521 503\n",
      " 570 260 609 547 598 659 692 708 523 138 172 375  59 242 573 322 577 268\n",
      " 263 645 636 459  70 571 141 171 300 402 264 247 399 531 181 140 489 544\n",
      " 408 542 132 619 661 559 558 205 433 360 548 428 301 612 515  77 457 522\n",
      " 412 110 305 504 528 348 500 640 551 585  72  10 529 333 468 211 207 369\n",
      " 634 350 253 482 198 338 271 695 251 341 261  33  82 608 472 475 545  38\n",
      " 638 602 590 143 376 660 321 480 137 227 221 536 478 328 204 311 296 575\n",
      " 194 578 390 652 129 167 464  32 187 426  22 512 232 392 486 380 490 707\n",
      " 487 174 310 323 393 222 614 366 623 377 325  49 587 238 476 444  13  24\n",
      " 368  66 633 397 363  54  80  31  14 346 564  69   9 454 162 135 417 344\n",
      "  19  17 373 395 152 686 337 127 284 252 225  90 415 165 339 209 336 511\n",
      " 246 601 330 649   4  99 711 404 684 629 697 183  84 189 698 117 579 507\n",
      " 128 256 473 158 266 121  74 403 541  41 481 166 142 673 530 452 687 118\n",
      "  61 436 499 188 201 439  85 483 145 662 414 456 591 706 293 216 352 234\n",
      "  68 621  67 151 485  30 565 607 584 278 180 665 168  29 519  94 237 553\n",
      " 292 685 535  55 285 693 101 355 663 682 104 282 419  71 678 567 389 513\n",
      " 552 212 102 316 119 359  98 425 245 574 277 445 144 215  73 505 199 620\n",
      " 615 637 407 520 498 379 196 539 447 627 388 524 349 709 161 676   6 280\n",
      " 411 192 683 458 303  56  50 401 448 696 655 506 431 372 169 502 451 226\n",
      " 664 228 304 308 455 206  35 208  46 569 156 153 329   7 582 371   5 546\n",
      " 250 463 231 111 362 294  93 136 319 332 556 150 516 631 391 604 496 291\n",
      " 525 666 306 625 576  86 618 657 646 218 177 501 113 197 462 267 533 173\n",
      " 357  76 302 213 493  65 466 699 243 241 641 374 186 178 139 190 378 635\n",
      " 434 394 681 163 313 307 421 324 229 653 703 116   2 384  92 281 200 279\n",
      " 193 654 491 184 185 467 239 123 492  27  12 677 383 214 527 290 435 461\n",
      " 297 265 249 365 331  15 149 568 667  58 133 254 679 320 124 159 283 453\n",
      "  37 146 470 276 442  20 179 583  42 220 130 691 488 398 413 318 147 670\n",
      " 387  23  47 386 400 182 643   0 526 668 175  97 494 581 554 347 170 562\n",
      " 340 396 107 274 288 605 617 532 443 353 273 335  95 381   3 694 120   8\n",
      " 656 351 560 586 658 236 680 624 588 672 592 651 469 632 115 446 406 700\n",
      " 514  51 358 424 334  60 367 430 108 289 422  75 702 648 126  16 597 269\n",
      "  87 405 438 674 343 600 705 594 589 299 326] test: [460  44 275 410 479 385 418 160 688 599  79  25 644 134 125 100 603  39\n",
      " 710  18  57 555  11 312 240 701 557  53 272  81 314 429 317 203 217 416\n",
      " 610 298 210 202 233 566 155 537  28 630 543 287 550 230 626 690 361 518\n",
      "  40 508  43 593 148 157 327  48  88 382 354 114 370 474 580 109 534  89\n",
      " 248 509 164 286 195 606  45 495  52 437 477 223  64 517 176 420 471  21\n",
      "  96 364 356 441 432 704 450 671 647 315 224 342 295 423 595   1 572 409\n",
      " 689 563 255 112 639  63  62 616 309 549 154 122 613 258 257 484 105  26\n",
      " 561 244 262 650 427  83 596 270 259 611  91 449 465 622 345 540 106]\n",
      "train: [280 685 435 369 341 404 312 650 508 431 590 704 348  20  93 585 604 281\n",
      " 438 240 483 581 179 503 644 638  75 218 509 678 333  48 310 392 651  26\n",
      "   0 294 224  92 429 360 288 552 627 584 113 104 518 500 578 702 268 695\n",
      " 617 374  50 432 233 568 459 525 646 580 640 478 243 317 466 173 540 643\n",
      " 273 329 350 375 121 588 210 413 177  33 154 687 367 522 344 115 689  34\n",
      " 153  22 266 175  98 686 267 502 539 514 103 219 197 193 474 162 693 112\n",
      " 668 507 489  71 126 453 454 387 381  52 634 164 424 264 542  39 232 191\n",
      " 666 691 420 358 328 599 606 285 620 190 180 181 192 347 592 188 505 289\n",
      " 122 659  72 665 465 343 200 152 401 270 235 383 309 443  43 682 709 165\n",
      " 161 242 337 253 623 272 371 457 589  96 679 184 654 487  55 557 351   2\n",
      " 675 148  29 482 256 217 298 561 491 591 361 445 338 114 636 221 595 229\n",
      " 434 673 207 609 297 293 106 577 534 279 512  94 560 251 118 373 398 517\n",
      " 690 146  87 464 380  66 170 501 296 417 408  10 596 471 511 574 247 324\n",
      "  32 619  41 276 463 582 671 370 254 388 573 396 480 647 359  59  90 237\n",
      " 672 658 111 171 306 222 587 159 523  81 196 701 403 123 336 125 499 166\n",
      "  44 496 208 624 629 346 178 199 593 342 533 630 648 430  19 481 494 536\n",
      " 632 527  38 311 441 201  24 163 263 473  45 676 467 117 282 131  91 313\n",
      " 519 258 134 418 291 133 554 416 425 236  97 504  12  86  15 710 231 572\n",
      " 607 631 142 699 683 230 189 120 613 198 493  83 138 513 460 409  18 368\n",
      " 244 700 127 615 129 475 390 339 400 393 320 442 110 278 394 559 562 681\n",
      " 667 327 545 116 456 447 439 547 124 275 147 422 526  25  11 391   8 530\n",
      " 284 498 303 664 326 706  31  76 128 621 100 187 332 107 455 397 402 195\n",
      " 214 635 250 440 316 477  51 520 495 626 600 412  58 352 655 132 325 213\n",
      "  64 323 598   3 269 227 485  30 255 144  95 261 355 405 661 543 292 567\n",
      " 145 204 345 384 450 419  28  57 308 497  65 102  37 697 521  70  49 426\n",
      " 449 476 183 549  14  62 674 642 186 386 169 353 202 451 510  63 290  54\n",
      "  23 479 158 639 414   1 566 472   5 488 287  74 677 109 265 448 684  27\n",
      " 212 546 469 551 319 569 211 150 363 692 135 437 601 277 579 669 295 576\n",
      " 622  89 382  40 556 583 705 283 407 680 433 656 657 645 286  85  56 490\n",
      " 652 694  46 300 570 660 415  60 105 385  84 223   9 379 215 602 708  77\n",
      " 245 535  99 707 564 444 136   7 220 241 558 176  47 157 637 663  61 331\n",
      " 151 458 703 548 185 321 228  13 662 516 143] test: [594 565 470 597 605 356  21 446  67 406 586 259  82 541 614 330 571 461\n",
      " 238 378 696 305  36 246  16 410 174  73 506 301 616 524 372   6 544 532\n",
      " 335  80 537 608 314 421 625 149 155 209 362 140 364  17 428  68 538  35\n",
      " 698 452 427 137 563   4 318  78 529 603 340 688 612 531 160 248 141 130\n",
      " 436 399 302 641 249 304 484 555 486 354 365 628 139 156 610 205 649 575\n",
      " 226 492  88 653 194 357 168 101 307 182  42 225 252 611 528 411  53 206\n",
      " 389 334 618  79 322 260 468 423 239  69 216 108 257 670 262 119 376 315\n",
      " 550 633 271 395 462 553 274 203 167 377 711 366 515 234 349 172 299]\n"
     ]
    }
   ],
   "source": [
    "# 建立训练数据和测试数据\n",
    "for train_index, test_index in sss.split(X, y):\n",
    "    print(\"train:\", train_index, \"test:\", test_index)\n",
    "    X_train,X_test=X.iloc[train_index], X.iloc[test_index]\n",
    "    y_train,y_test=y[train_index], y[test_index]"
   ]
  },
  {
   "cell_type": "code",
   "execution_count": 346,
   "metadata": {
    "collapsed": false
   },
   "outputs": [
    {
     "name": "stdout",
     "output_type": "stream",
     "text": [
      "原始数据特征： (712, 9) 训练数据特征： (569, 9) 测试数据特征： (143, 9)\n",
      "原始数据标签： (712,)    训练数据标签： (569,)    测试数据标签： (143,)\n"
     ]
    }
   ],
   "source": [
    "# 输出数据集大小\n",
    "print('原始数据特征：', X.shape,\n",
    "      '训练数据特征：',X_train.shape,\n",
    "      '测试数据特征：',X_test.shape)\n",
    "\n",
    "print('原始数据标签：', y.shape,\n",
    "      '   训练数据标签：',y_train.shape,\n",
    "      '   测试数据标签：',y_test.shape)\n"
   ]
  },
  {
   "cell_type": "code",
   "execution_count": 347,
   "metadata": {
    "collapsed": true
   },
   "outputs": [],
   "source": [
    "# 使用分类算法，这里选用10种分类算法\n",
    "Classifiers=[[\"Random Forest\",RandomForestClassifier()],\n",
    "             [\"Support Vector Machine\",SVC()],\n",
    "             [\"LogisticRegression\",LogisticRegression()],\n",
    "             [\"KNN\",KNeighborsClassifier(n_neighbors=5)],\n",
    "             [\"Naive Bayes\",GaussianNB()],\n",
    "             [\"Decision Tree\",DecisionTreeClassifier()],\n",
    "             [\"AdaBoostClassifier\", AdaBoostClassifier()],\n",
    "             [\"GradientBoostingClassifier\", GradientBoostingClassifier()],\n",
    "             [\"XGB\", XGBClassifier()],\n",
    "             [\"CatBoost\", CatBoostClassifier(logging_level='Silent')],\n",
    "             ['LGB',LGBMClassifier()]\n",
    "]"
   ]
  },
  {
   "cell_type": "code",
   "execution_count": 348,
   "metadata": {
    "collapsed": true
   },
   "outputs": [],
   "source": [
    "Classify_result=[]\n",
    "names=[]\n",
    "prediction=[]\n",
    "for name,classifier in Classifiers:\n",
    "    classifier=classifier\n",
    "    classifier.fit(X_train,y_train)\n",
    "    y_pred=classifier.predict(X_test)\n",
    "    recall=recall_score(y_test,y_pred)\n",
    "    precision=precision_score(y_test,y_pred)\n",
    "    f1=f1_score(y_test,y_pred)\n",
    "    class_eva=pd.DataFrame([recall,precision,f1])\n",
    "    Classify_result.append(class_eva)\n",
    "    name=pd.Series(name)\n",
    "    names.append(name)\n",
    "    y_pred=pd.Series(y_pred)\n",
    "    prediction.append(y_pred)\n"
   ]
  },
  {
   "cell_type": "code",
   "execution_count": 349,
   "metadata": {
    "collapsed": false
   },
   "outputs": [
    {
     "data": {
      "text/html": [
       "<div>\n",
       "<style scoped>\n",
       "    .dataframe tbody tr th:only-of-type {\n",
       "        vertical-align: middle;\n",
       "    }\n",
       "\n",
       "    .dataframe tbody tr th {\n",
       "        vertical-align: top;\n",
       "    }\n",
       "\n",
       "    .dataframe thead th {\n",
       "        text-align: right;\n",
       "    }\n",
       "</style>\n",
       "<table border=\"1\" class=\"dataframe\">\n",
       "  <thead>\n",
       "    <tr style=\"text-align: right;\">\n",
       "      <th></th>\n",
       "      <th>Random Forest</th>\n",
       "      <th>Support Vector Machine</th>\n",
       "      <th>LogisticRegression</th>\n",
       "      <th>KNN</th>\n",
       "      <th>Naive Bayes</th>\n",
       "      <th>Decision Tree</th>\n",
       "      <th>AdaBoostClassifier</th>\n",
       "      <th>GradientBoostingClassifier</th>\n",
       "      <th>XGB</th>\n",
       "      <th>CatBoost</th>\n",
       "      <th>LGB</th>\n",
       "    </tr>\n",
       "  </thead>\n",
       "  <tbody>\n",
       "    <tr>\n",
       "      <th>recall</th>\n",
       "      <td>0.810345</td>\n",
       "      <td>0.793103</td>\n",
       "      <td>0.827586</td>\n",
       "      <td>0.879310</td>\n",
       "      <td>0.793103</td>\n",
       "      <td>0.741379</td>\n",
       "      <td>0.810345</td>\n",
       "      <td>0.862069</td>\n",
       "      <td>0.810345</td>\n",
       "      <td>0.810345</td>\n",
       "      <td>0.793103</td>\n",
       "    </tr>\n",
       "    <tr>\n",
       "      <th>precision</th>\n",
       "      <td>0.734375</td>\n",
       "      <td>0.793103</td>\n",
       "      <td>0.727273</td>\n",
       "      <td>0.772727</td>\n",
       "      <td>0.666667</td>\n",
       "      <td>0.741379</td>\n",
       "      <td>0.712121</td>\n",
       "      <td>0.819672</td>\n",
       "      <td>0.758065</td>\n",
       "      <td>0.796610</td>\n",
       "      <td>0.779661</td>\n",
       "    </tr>\n",
       "    <tr>\n",
       "      <th>f1score</th>\n",
       "      <td>0.770492</td>\n",
       "      <td>0.793103</td>\n",
       "      <td>0.774194</td>\n",
       "      <td>0.822581</td>\n",
       "      <td>0.724409</td>\n",
       "      <td>0.741379</td>\n",
       "      <td>0.758065</td>\n",
       "      <td>0.840336</td>\n",
       "      <td>0.783333</td>\n",
       "      <td>0.803419</td>\n",
       "      <td>0.786325</td>\n",
       "    </tr>\n",
       "  </tbody>\n",
       "</table>\n",
       "</div>"
      ],
      "text/plain": [
       "           Random Forest  Support Vector Machine  LogisticRegression  \\\n",
       "recall          0.810345                0.793103            0.827586   \n",
       "precision       0.734375                0.793103            0.727273   \n",
       "f1score         0.770492                0.793103            0.774194   \n",
       "\n",
       "                KNN  Naive Bayes  Decision Tree  AdaBoostClassifier  \\\n",
       "recall     0.879310     0.793103       0.741379            0.810345   \n",
       "precision  0.772727     0.666667       0.741379            0.712121   \n",
       "f1score    0.822581     0.724409       0.741379            0.758065   \n",
       "\n",
       "           GradientBoostingClassifier       XGB  CatBoost       LGB  \n",
       "recall                       0.862069  0.810345  0.810345  0.793103  \n",
       "precision                    0.819672  0.758065  0.796610  0.779661  \n",
       "f1score                      0.840336  0.783333  0.803419  0.786325  "
      ]
     },
     "execution_count": 349,
     "metadata": {},
     "output_type": "execute_result"
    }
   ],
   "source": [
    "\"\"\"\n",
    "召回率（recall）的含义是：原本为对的当中，预测为对的比例（值越大越好，1为理想状态）\n",
    "精确率、精度（precision）的含义是：预测为对的当中，原本为对的比例（值越大越好，1为理想状态）\n",
    "F1分数（F1-Score）指标综合了Precision与Recall的产出的结果\n",
    "F1-Score的取值范围从0到1的，1代表模型的输出最好，0代表模型的输出结果最差。\n",
    "\"\"\"\n",
    "\n",
    "names=pd.DataFrame(names)\n",
    "names=names[0].tolist()\n",
    "result=pd.concat(Classify_result,axis=1)\n",
    "result.columns=names\n",
    "result.index=[\"recall\",\"precision\",\"f1score\"]\n",
    "result"
   ]
  },
  {
   "cell_type": "code",
   "execution_count": 322,
   "metadata": {
    "collapsed": false
   },
   "outputs": [
    {
     "data": {
      "text/html": [
       "<div>\n",
       "<style scoped>\n",
       "    .dataframe tbody tr th:only-of-type {\n",
       "        vertical-align: middle;\n",
       "    }\n",
       "\n",
       "    .dataframe tbody tr th {\n",
       "        vertical-align: top;\n",
       "    }\n",
       "\n",
       "    .dataframe thead th {\n",
       "        text-align: right;\n",
       "    }\n",
       "</style>\n",
       "<table border=\"1\" class=\"dataframe\">\n",
       "  <thead>\n",
       "    <tr style=\"text-align: right;\">\n",
       "      <th></th>\n",
       "      <th>Pclass</th>\n",
       "      <th>Sex</th>\n",
       "      <th>SibSp</th>\n",
       "      <th>Parch</th>\n",
       "      <th>Fare</th>\n",
       "      <th>Embarked_C</th>\n",
       "      <th>Embarked_Q</th>\n",
       "      <th>Embarked_S</th>\n",
       "      <th>AgeBin_code</th>\n",
       "    </tr>\n",
       "  </thead>\n",
       "  <tbody>\n",
       "    <tr>\n",
       "      <th>349</th>\n",
       "      <td>3</td>\n",
       "      <td>1</td>\n",
       "      <td>0</td>\n",
       "      <td>0</td>\n",
       "      <td>-0.489679</td>\n",
       "      <td>0</td>\n",
       "      <td>0</td>\n",
       "      <td>1</td>\n",
       "      <td>2</td>\n",
       "    </tr>\n",
       "    <tr>\n",
       "      <th>860</th>\n",
       "      <td>3</td>\n",
       "      <td>1</td>\n",
       "      <td>2</td>\n",
       "      <td>0</td>\n",
       "      <td>-0.386737</td>\n",
       "      <td>0</td>\n",
       "      <td>0</td>\n",
       "      <td>1</td>\n",
       "      <td>2</td>\n",
       "    </tr>\n",
       "    <tr>\n",
       "      <th>549</th>\n",
       "      <td>2</td>\n",
       "      <td>1</td>\n",
       "      <td>1</td>\n",
       "      <td>1</td>\n",
       "      <td>0.041261</td>\n",
       "      <td>0</td>\n",
       "      <td>0</td>\n",
       "      <td>1</td>\n",
       "      <td>0</td>\n",
       "    </tr>\n",
       "    <tr>\n",
       "      <th>462</th>\n",
       "      <td>1</td>\n",
       "      <td>1</td>\n",
       "      <td>0</td>\n",
       "      <td>0</td>\n",
       "      <td>0.074341</td>\n",
       "      <td>0</td>\n",
       "      <td>0</td>\n",
       "      <td>1</td>\n",
       "      <td>2</td>\n",
       "    </tr>\n",
       "    <tr>\n",
       "      <th>427</th>\n",
       "      <td>2</td>\n",
       "      <td>0</td>\n",
       "      <td>0</td>\n",
       "      <td>0</td>\n",
       "      <td>-0.161947</td>\n",
       "      <td>0</td>\n",
       "      <td>0</td>\n",
       "      <td>1</td>\n",
       "      <td>1</td>\n",
       "    </tr>\n",
       "  </tbody>\n",
       "</table>\n",
       "</div>"
      ],
      "text/plain": [
       "     Pclass  Sex  SibSp  Parch      Fare  Embarked_C  Embarked_Q  Embarked_S  \\\n",
       "349       3    1      0      0 -0.489679           0           0           1   \n",
       "860       3    1      2      0 -0.386737           0           0           1   \n",
       "549       2    1      1      1  0.041261           0           0           1   \n",
       "462       1    1      0      0  0.074341           0           0           1   \n",
       "427       2    0      0      0 -0.161947           0           0           1   \n",
       "\n",
       "     AgeBin_code  \n",
       "349            2  \n",
       "860            2  \n",
       "549            0  \n",
       "462            2  \n",
       "427            1  "
      ]
     },
     "execution_count": 322,
     "metadata": {},
     "output_type": "execute_result"
    }
   ],
   "source": [
    "X_train.head()"
   ]
  },
  {
   "cell_type": "markdown",
   "metadata": {},
   "source": [
    "#### 哪个模型的综合得分最高，就用哪个模型作为最终预测的模型"
   ]
  },
  {
   "cell_type": "markdown",
   "metadata": {},
   "source": [
    "### 6、预测数据\n",
    "#### 确保测试集的格式和训练集是一样的"
   ]
  },
  {
   "cell_type": "code",
   "execution_count": 261,
   "metadata": {
    "collapsed": false
   },
   "outputs": [],
   "source": [
    "test_data=pd.read_csv('./data/titanic/test.csv')\n",
    "test_data=test_data.drop(['PassengerId','Name','Ticket','Cabin'],axis=1)"
   ]
  },
  {
   "cell_type": "code",
   "execution_count": 262,
   "metadata": {
    "collapsed": false
   },
   "outputs": [
    {
     "data": {
      "text/plain": [
       "Pclass       0\n",
       "Sex          0\n",
       "Age         86\n",
       "SibSp        0\n",
       "Parch        0\n",
       "Fare         1\n",
       "Embarked     0\n",
       "dtype: int64"
      ]
     },
     "execution_count": 262,
     "metadata": {},
     "output_type": "execute_result"
    }
   ],
   "source": [
    "pd.isnull(test_data).sum()"
   ]
  },
  {
   "cell_type": "code",
   "execution_count": 263,
   "metadata": {
    "collapsed": false
   },
   "outputs": [],
   "source": [
    "test_data=test_data.fillna(value=test_data['Age'].median())"
   ]
  },
  {
   "cell_type": "code",
   "execution_count": 264,
   "metadata": {
    "collapsed": false
   },
   "outputs": [],
   "source": [
    "test_data['Sex'].replace(to_replace='male',value=1,inplace=True)\n",
    "test_data['Sex'].replace(to_replace='female',value=0,inplace=True)"
   ]
  },
  {
   "cell_type": "code",
   "execution_count": 265,
   "metadata": {
    "collapsed": true
   },
   "outputs": [],
   "source": [
    "scaler = StandardScaler(copy=False)\n",
    "# fit_transform()的作用就是先拟合数据，然后转化它将其转化为标准形式\n",
    "test_data['Fare']=scaler.fit_transform(test_data[['Fare']])"
   ]
  },
  {
   "cell_type": "code",
   "execution_count": 266,
   "metadata": {
    "collapsed": false
   },
   "outputs": [],
   "source": [
    "test_data=pd.get_dummies(test_data)\n",
    "test_data['Age_bin']=pd.cut(test_data['Age'].astype(int),5)\n",
    "label=LabelEncoder()\n",
    "test_data['AgeBin_code']=label.fit_transform(test_data['Age_bin'])\n",
    "test_data=test_data.drop(['Age','Age_bin'],axis=1)"
   ]
  },
  {
   "cell_type": "code",
   "execution_count": 267,
   "metadata": {
    "collapsed": false
   },
   "outputs": [
    {
     "data": {
      "text/html": [
       "<div>\n",
       "<style scoped>\n",
       "    .dataframe tbody tr th:only-of-type {\n",
       "        vertical-align: middle;\n",
       "    }\n",
       "\n",
       "    .dataframe tbody tr th {\n",
       "        vertical-align: top;\n",
       "    }\n",
       "\n",
       "    .dataframe thead th {\n",
       "        text-align: right;\n",
       "    }\n",
       "</style>\n",
       "<table border=\"1\" class=\"dataframe\">\n",
       "  <thead>\n",
       "    <tr style=\"text-align: right;\">\n",
       "      <th></th>\n",
       "      <th>Pclass</th>\n",
       "      <th>Sex</th>\n",
       "      <th>SibSp</th>\n",
       "      <th>Parch</th>\n",
       "      <th>Fare</th>\n",
       "      <th>Embarked_C</th>\n",
       "      <th>Embarked_Q</th>\n",
       "      <th>Embarked_S</th>\n",
       "      <th>AgeBin_code</th>\n",
       "    </tr>\n",
       "  </thead>\n",
       "  <tbody>\n",
       "    <tr>\n",
       "      <th>0</th>\n",
       "      <td>3</td>\n",
       "      <td>1</td>\n",
       "      <td>0</td>\n",
       "      <td>0</td>\n",
       "      <td>-0.498023</td>\n",
       "      <td>0</td>\n",
       "      <td>1</td>\n",
       "      <td>0</td>\n",
       "      <td>2</td>\n",
       "    </tr>\n",
       "    <tr>\n",
       "      <th>1</th>\n",
       "      <td>3</td>\n",
       "      <td>0</td>\n",
       "      <td>1</td>\n",
       "      <td>0</td>\n",
       "      <td>-0.512890</td>\n",
       "      <td>0</td>\n",
       "      <td>0</td>\n",
       "      <td>1</td>\n",
       "      <td>3</td>\n",
       "    </tr>\n",
       "    <tr>\n",
       "      <th>2</th>\n",
       "      <td>2</td>\n",
       "      <td>1</td>\n",
       "      <td>0</td>\n",
       "      <td>0</td>\n",
       "      <td>-0.464705</td>\n",
       "      <td>0</td>\n",
       "      <td>1</td>\n",
       "      <td>0</td>\n",
       "      <td>4</td>\n",
       "    </tr>\n",
       "    <tr>\n",
       "      <th>3</th>\n",
       "      <td>3</td>\n",
       "      <td>1</td>\n",
       "      <td>0</td>\n",
       "      <td>0</td>\n",
       "      <td>-0.483082</td>\n",
       "      <td>0</td>\n",
       "      <td>0</td>\n",
       "      <td>1</td>\n",
       "      <td>1</td>\n",
       "    </tr>\n",
       "    <tr>\n",
       "      <th>4</th>\n",
       "      <td>3</td>\n",
       "      <td>0</td>\n",
       "      <td>1</td>\n",
       "      <td>1</td>\n",
       "      <td>-0.418089</td>\n",
       "      <td>0</td>\n",
       "      <td>0</td>\n",
       "      <td>1</td>\n",
       "      <td>1</td>\n",
       "    </tr>\n",
       "  </tbody>\n",
       "</table>\n",
       "</div>"
      ],
      "text/plain": [
       "   Pclass  Sex  SibSp  Parch      Fare  Embarked_C  Embarked_Q  Embarked_S  \\\n",
       "0       3    1      0      0 -0.498023           0           1           0   \n",
       "1       3    0      1      0 -0.512890           0           0           1   \n",
       "2       2    1      0      0 -0.464705           0           1           0   \n",
       "3       3    1      0      0 -0.483082           0           0           1   \n",
       "4       3    0      1      1 -0.418089           0           0           1   \n",
       "\n",
       "   AgeBin_code  \n",
       "0            2  \n",
       "1            3  \n",
       "2            4  \n",
       "3            1  \n",
       "4            1  "
      ]
     },
     "execution_count": 267,
     "metadata": {},
     "output_type": "execute_result"
    }
   ],
   "source": [
    "test_data.head()"
   ]
  },
  {
   "cell_type": "code",
   "execution_count": 268,
   "metadata": {
    "collapsed": false
   },
   "outputs": [
    {
     "data": {
      "text/html": [
       "<div>\n",
       "<style scoped>\n",
       "    .dataframe tbody tr th:only-of-type {\n",
       "        vertical-align: middle;\n",
       "    }\n",
       "\n",
       "    .dataframe tbody tr th {\n",
       "        vertical-align: top;\n",
       "    }\n",
       "\n",
       "    .dataframe thead th {\n",
       "        text-align: right;\n",
       "    }\n",
       "</style>\n",
       "<table border=\"1\" class=\"dataframe\">\n",
       "  <thead>\n",
       "    <tr style=\"text-align: right;\">\n",
       "      <th></th>\n",
       "      <th>Pclass</th>\n",
       "      <th>Sex</th>\n",
       "      <th>SibSp</th>\n",
       "      <th>Parch</th>\n",
       "      <th>Fare</th>\n",
       "      <th>Embarked_C</th>\n",
       "      <th>Embarked_Q</th>\n",
       "      <th>Embarked_S</th>\n",
       "      <th>AgeBin_code</th>\n",
       "    </tr>\n",
       "  </thead>\n",
       "  <tbody>\n",
       "    <tr>\n",
       "      <th>0</th>\n",
       "      <td>3</td>\n",
       "      <td>1</td>\n",
       "      <td>1</td>\n",
       "      <td>0</td>\n",
       "      <td>-0.516380</td>\n",
       "      <td>0</td>\n",
       "      <td>0</td>\n",
       "      <td>1</td>\n",
       "      <td>1</td>\n",
       "    </tr>\n",
       "    <tr>\n",
       "      <th>1</th>\n",
       "      <td>1</td>\n",
       "      <td>0</td>\n",
       "      <td>1</td>\n",
       "      <td>0</td>\n",
       "      <td>0.694046</td>\n",
       "      <td>1</td>\n",
       "      <td>0</td>\n",
       "      <td>0</td>\n",
       "      <td>2</td>\n",
       "    </tr>\n",
       "    <tr>\n",
       "      <th>2</th>\n",
       "      <td>3</td>\n",
       "      <td>0</td>\n",
       "      <td>0</td>\n",
       "      <td>0</td>\n",
       "      <td>-0.503620</td>\n",
       "      <td>0</td>\n",
       "      <td>0</td>\n",
       "      <td>1</td>\n",
       "      <td>1</td>\n",
       "    </tr>\n",
       "    <tr>\n",
       "      <th>3</th>\n",
       "      <td>1</td>\n",
       "      <td>0</td>\n",
       "      <td>1</td>\n",
       "      <td>0</td>\n",
       "      <td>0.350326</td>\n",
       "      <td>0</td>\n",
       "      <td>0</td>\n",
       "      <td>1</td>\n",
       "      <td>2</td>\n",
       "    </tr>\n",
       "    <tr>\n",
       "      <th>4</th>\n",
       "      <td>3</td>\n",
       "      <td>1</td>\n",
       "      <td>0</td>\n",
       "      <td>0</td>\n",
       "      <td>-0.501257</td>\n",
       "      <td>0</td>\n",
       "      <td>0</td>\n",
       "      <td>1</td>\n",
       "      <td>2</td>\n",
       "    </tr>\n",
       "  </tbody>\n",
       "</table>\n",
       "</div>"
      ],
      "text/plain": [
       "   Pclass  Sex  SibSp  Parch      Fare  Embarked_C  Embarked_Q  Embarked_S  \\\n",
       "0       3    1      1      0 -0.516380           0           0           1   \n",
       "1       1    0      1      0  0.694046           1           0           0   \n",
       "2       3    0      0      0 -0.503620           0           0           1   \n",
       "3       1    0      1      0  0.350326           0           0           1   \n",
       "4       3    1      0      0 -0.501257           0           0           1   \n",
       "\n",
       "   AgeBin_code  \n",
       "0            1  \n",
       "1            2  \n",
       "2            1  \n",
       "3            2  \n",
       "4            2  "
      ]
     },
     "execution_count": 268,
     "metadata": {},
     "output_type": "execute_result"
    }
   ],
   "source": [
    "X.head()"
   ]
  },
  {
   "cell_type": "markdown",
   "metadata": {},
   "source": [
    "#### 已经将测试集的格式处理的和训练用的数据格式一致了"
   ]
  },
  {
   "cell_type": "code",
   "execution_count": 93,
   "metadata": {
    "collapsed": false
   },
   "outputs": [
    {
     "data": {
      "text/plain": [
       "({'gamma': 0.1, 'learning_rate': 0.1, 'max_depth': 4, 'subsample': 0.8},\n",
       " 0.8635635759819827)"
      ]
     },
     "execution_count": 93,
     "metadata": {},
     "output_type": "execute_result"
    }
   ],
   "source": [
    "param_test1 = {\n",
    "    'max_depth':[2,3,4,5],\n",
    "    'learning_rate':[0.01,0.05,0.1],\n",
    "    'subsample':[0.8,0.7,0.6],\n",
    "    'gamma':[0.1,0.2,0.3]\n",
    "}\n",
    "gsearch1 = GridSearchCV(estimator = LGBMClassifier(n_estimators=300,max_depth=5,gamma=0.2,\n",
    "                                                   subsample=0.8,colsample_bytree=0.8, seed=0),\n",
    "param_grid = param_test1,\n",
    "scoring='roc_auc',\n",
    "n_jobs=4,\n",
    "iid=False,\n",
    "cv=5)\n",
    "gsearch1.fit(X_train,y_train)\n",
    "gsearch1.best_params_,gsearch1.best_score_"
   ]
  },
  {
   "cell_type": "code",
   "execution_count": 203,
   "metadata": {
    "collapsed": false
   },
   "outputs": [],
   "source": [
    "pred_X=test_data\n",
    "model = LGBMClassifier(n_estimators=300,\n",
    "            # 如同学习率\n",
    "            learning_rate= 0.01, \n",
    "            # 构建树的深度，越大越容易过拟合    \n",
    "            max_depth=4, \n",
    "            # 随机采样训练样本 训练实例的子采样比\n",
    "            subsample=0.8, \n",
    "            # 用于控制是否后剪枝的参数,越大越保守，一般0.1、0.2这样子\n",
    "            gamma=0.2, \n",
    "            # 控制模型复杂度的权重值的L2正则化项参数，参数越大，模型越不容易过拟合。\n",
    "            reg_lambda=1,  \n",
    "\n",
    "            #最大增量步长，我们允许每个树的权重估计。\n",
    "            max_delta_step=0,\n",
    "            # 生成树时进行的列采样 \n",
    "            colsample_bytree=0.8, \n",
    "\n",
    "            # 这个参数默认是 1，是每个叶子里面 h 的和至少是多少，对正负样本不均衡时的 0-1 分类而言\n",
    "            # 假设 h 在 0.01 附近，min_child_weight 为 1 意味着叶子节点中最少需要包含 100 个样本。\n",
    "            #这个参数非常影响结果，控制叶子节点中二阶导的和的最小值，该参数值越小，越容易 overfitting。\n",
    "            min_child_weight=1, \n",
    "\n",
    "            #随机种子\n",
    "            seed=0 ,\n",
    "\n",
    "            # L1 正则项参数\n",
    "    #        reg_alpha=0,\n",
    "\n",
    "            #如果取值大于0的话，在类别样本不平衡的情况下有助于快速收敛。平衡正负权重\n",
    "            #scale_pos_weight=1,\n",
    "\n",
    "\n",
    "            # 类别数，多分类与 multisoftmax 并用\n",
    "            #num_class=10,\n",
    "\n",
    "            # 设置成1则没有运行信息输出，最好是设置为0.是否在运行升级时打印消息。\n",
    "    #        silent=0 ,\n",
    "            # cpu 线程数 默认最大\n",
    "    #        nthread=4,\n",
    "\n",
    "            #eval_metric= 'auc'\n",
    "    )\n",
    "model.fit(X_train,y_train)\n",
    "pred_y = model.predict(pred_X)\n",
    "#y_pred=model.predict(X_test)\n",
    "#f1_score(y_test,y_pred)\n",
    "# 显示预测结果\n",
    "# predDf = pd.DataFrame({'Churn':pred_y})\n"
   ]
  },
  {
   "cell_type": "code",
   "execution_count": 234,
   "metadata": {
    "collapsed": true
   },
   "outputs": [],
   "source": [
    "model=KNeighborsClassifier(n_neighbors=5)\n",
    "model.fit(X_train,y_train)\n",
    "pred_y = model.predict(pred_X)"
   ]
  },
  {
   "cell_type": "code",
   "execution_count": 231,
   "metadata": {
    "collapsed": true
   },
   "outputs": [],
   "source": [
    "model=GradientBoostingClassifier(learning_rate=0.01,n_estimators=300)\n",
    "model.fit(X_train,y_train)\n",
    "pred_y = model.predict(pred_X)"
   ]
  },
  {
   "cell_type": "code",
   "execution_count": 157,
   "metadata": {
    "collapsed": true
   },
   "outputs": [],
   "source": [
    "model=AdaBoostClassifier(n_estimators=300,learning_rate=0.01)\n",
    "model.fit(X_train,y_train)\n",
    "pred_y = model.predict(pred_X)"
   ]
  },
  {
   "cell_type": "code",
   "execution_count": 150,
   "metadata": {
    "collapsed": false
   },
   "outputs": [
    {
     "data": {
      "text/plain": [
       "0.8741258741258742"
      ]
     },
     "execution_count": 150,
     "metadata": {},
     "output_type": "execute_result"
    }
   ],
   "source": [
    "# 试试集成分类器\n",
    "voting_clf = sklearn.ensemble.VotingClassifier(estimators=[\n",
    "        ('lgm', LGBMClassifier(n_estimators=300,learning_rate=0.01,max_depth=4)),\n",
    "        ('svc', SVC(probability=True)),\n",
    "        #('dt_clf', DecisionTreeClassifier(random_state=666)),\n",
    "        #(\"Naive Bayes\",GaussianNB()),\n",
    "        ('xgb',XGBClassifier()),\n",
    "        ('cat',CatBoostClassifier(logging_level='Silent'))\n",
    "], voting='soft')\n",
    "\n",
    "voting_clf.fit(X_train, y_train)\n",
    "voting_clf.score(X_test, y_test)"
   ]
  },
  {
   "cell_type": "code",
   "execution_count": 151,
   "metadata": {
    "collapsed": true
   },
   "outputs": [],
   "source": [
    "pred_y=voting_clf.predict(pred_X)"
   ]
  },
  {
   "cell_type": "code",
   "execution_count": 235,
   "metadata": {
    "collapsed": false
   },
   "outputs": [],
   "source": [
    "result=pd.read_csv('./data/titanic/gender_submission.csv')\n",
    "result['Survived']=pred_y"
   ]
  },
  {
   "cell_type": "code",
   "execution_count": 236,
   "metadata": {
    "collapsed": false
   },
   "outputs": [
    {
     "name": "stdout",
     "output_type": "stream",
     "text": [
      "csv file has already saved!\n"
     ]
    }
   ],
   "source": [
    "result.to_csv('./data/titanic/result.csv',index=0)\n",
    "print('csv file has already saved!')"
   ]
  },
  {
   "cell_type": "markdown",
   "metadata": {},
   "source": [
    "### 使用默认的lgb参数得分是0.746，改进参数后是0.78947"
   ]
  },
  {
   "cell_type": "markdown",
   "metadata": {},
   "source": [
    "### 2020.06.24 将测试集中缺失的年龄用众数代替，然后等宽cut成5份，再编码成0,1,2,3，4\n",
    "### model=GradientBoostingClassifier(learning_rate=0.01,n_estimators=300) 提交成绩再创新高，达到0.81339\n",
    "### 训练集中的年龄缺失值还是删掉效果比较好"
   ]
  },
  {
   "cell_type": "code",
   "execution_count": 238,
   "metadata": {
    "collapsed": false
   },
   "outputs": [
    {
     "data": {
      "text/html": [
       "<div>\n",
       "<style scoped>\n",
       "    .dataframe tbody tr th:only-of-type {\n",
       "        vertical-align: middle;\n",
       "    }\n",
       "\n",
       "    .dataframe tbody tr th {\n",
       "        vertical-align: top;\n",
       "    }\n",
       "\n",
       "    .dataframe thead th {\n",
       "        text-align: right;\n",
       "    }\n",
       "</style>\n",
       "<table border=\"1\" class=\"dataframe\">\n",
       "  <thead>\n",
       "    <tr style=\"text-align: right;\">\n",
       "      <th></th>\n",
       "      <th>Pclass</th>\n",
       "      <th>Sex</th>\n",
       "      <th>SibSp</th>\n",
       "      <th>Parch</th>\n",
       "      <th>Fare</th>\n",
       "      <th>Embarked_C</th>\n",
       "      <th>Embarked_Q</th>\n",
       "      <th>Embarked_S</th>\n",
       "      <th>AgeBin_code</th>\n",
       "    </tr>\n",
       "  </thead>\n",
       "  <tbody>\n",
       "    <tr>\n",
       "      <th>0</th>\n",
       "      <td>3</td>\n",
       "      <td>1</td>\n",
       "      <td>0</td>\n",
       "      <td>0</td>\n",
       "      <td>-0.498407</td>\n",
       "      <td>0</td>\n",
       "      <td>1</td>\n",
       "      <td>0</td>\n",
       "      <td>2</td>\n",
       "    </tr>\n",
       "    <tr>\n",
       "      <th>1</th>\n",
       "      <td>3</td>\n",
       "      <td>0</td>\n",
       "      <td>1</td>\n",
       "      <td>0</td>\n",
       "      <td>-0.513274</td>\n",
       "      <td>0</td>\n",
       "      <td>0</td>\n",
       "      <td>1</td>\n",
       "      <td>3</td>\n",
       "    </tr>\n",
       "    <tr>\n",
       "      <th>2</th>\n",
       "      <td>2</td>\n",
       "      <td>1</td>\n",
       "      <td>0</td>\n",
       "      <td>0</td>\n",
       "      <td>-0.465088</td>\n",
       "      <td>0</td>\n",
       "      <td>1</td>\n",
       "      <td>0</td>\n",
       "      <td>4</td>\n",
       "    </tr>\n",
       "    <tr>\n",
       "      <th>3</th>\n",
       "      <td>3</td>\n",
       "      <td>1</td>\n",
       "      <td>0</td>\n",
       "      <td>0</td>\n",
       "      <td>-0.483466</td>\n",
       "      <td>0</td>\n",
       "      <td>0</td>\n",
       "      <td>1</td>\n",
       "      <td>1</td>\n",
       "    </tr>\n",
       "    <tr>\n",
       "      <th>4</th>\n",
       "      <td>3</td>\n",
       "      <td>0</td>\n",
       "      <td>1</td>\n",
       "      <td>1</td>\n",
       "      <td>-0.418471</td>\n",
       "      <td>0</td>\n",
       "      <td>0</td>\n",
       "      <td>1</td>\n",
       "      <td>1</td>\n",
       "    </tr>\n",
       "  </tbody>\n",
       "</table>\n",
       "</div>"
      ],
      "text/plain": [
       "   Pclass  Sex  SibSp  Parch      Fare  Embarked_C  Embarked_Q  Embarked_S  \\\n",
       "0       3    1      0      0 -0.498407           0           1           0   \n",
       "1       3    0      1      0 -0.513274           0           0           1   \n",
       "2       2    1      0      0 -0.465088           0           1           0   \n",
       "3       3    1      0      0 -0.483466           0           0           1   \n",
       "4       3    0      1      1 -0.418471           0           0           1   \n",
       "\n",
       "   AgeBin_code  \n",
       "0            2  \n",
       "1            3  \n",
       "2            4  \n",
       "3            1  \n",
       "4            1  "
      ]
     },
     "execution_count": 238,
     "metadata": {},
     "output_type": "execute_result"
    }
   ],
   "source": [
    "pred_X.head()"
   ]
  }
 ],
 "metadata": {
  "kernelspec": {
   "display_name": "Python [Root]",
   "language": "python",
   "name": "Python [Root]"
  },
  "language_info": {
   "codemirror_mode": {
    "name": "ipython",
    "version": 3
   },
   "file_extension": ".py",
   "mimetype": "text/x-python",
   "name": "python",
   "nbconvert_exporter": "python",
   "pygments_lexer": "ipython3",
   "version": "3.5.2"
  }
 },
 "nbformat": 4,
 "nbformat_minor": 0
}
